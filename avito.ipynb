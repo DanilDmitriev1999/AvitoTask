{
  "nbformat": 4,
  "nbformat_minor": 0,
  "metadata": {
    "colab": {
      "name": "avito.ipynb",
      "provenance": [],
      "collapsed_sections": [],
      "machine_shape": "hm"
    },
    "kernelspec": {
      "name": "python3",
      "display_name": "Python 3"
    },
    "accelerator": "GPU"
  },
  "cells": [
    {
      "cell_type": "markdown",
      "metadata": {
        "id": "eOYwM1ouVygT",
        "colab_type": "text"
      },
      "source": [
        "\n",
        "# Техническая часть"
      ]
    },
    {
      "cell_type": "markdown",
      "metadata": {
        "id": "HsbW24W5WfKi",
        "colab_type": "text"
      },
      "source": [
        "В данном блоке решения подключим основные библиотеки"
      ]
    },
    {
      "cell_type": "code",
      "metadata": {
        "id": "sc1UwgEGWuX_",
        "colab_type": "code",
        "colab": {}
      },
      "source": [
        "import numpy as np\n",
        "import pandas as pd\n",
        "import seaborn as sns\n",
        "import matplotlib.pyplot as plt\n",
        "\n",
        "\n",
        "from sklearn.feature_extraction.text import TfidfVectorizer, CountVectorizer\n",
        "from sklearn.metrics import accuracy_score\n",
        "from sklearn.linear_model import LogisticRegression\n",
        "from sklearn.model_selection import train_test_split\n",
        "from sklearn.multiclass import OneVsRestClassifier\n",
        "\n",
        "from gensim.models import Word2Vec\n",
        "\n",
        "import warnings\n",
        "warnings.filterwarnings(\"ignore\")"
      ],
      "execution_count": 0,
      "outputs": []
    },
    {
      "cell_type": "code",
      "metadata": {
        "id": "hWWvlUOUdZus",
        "colab_type": "code",
        "colab": {}
      },
      "source": [
        "!pip install -U -q PyDrive\n",
        "from pydrive.auth import GoogleAuth\n",
        "from pydrive.drive import GoogleDrive\n",
        "from google.colab import auth\n",
        "from oauth2client.client import GoogleCredentials\n",
        "\n",
        "# 1. Authenticate and create the PyDrive client.\n",
        "auth.authenticate_user()\n",
        "gauth = GoogleAuth()\n",
        "gauth.credentials = GoogleCredentials.get_application_default()\n",
        "drive = GoogleDrive(gauth)\n",
        "\n",
        "#2. Get the file\n",
        "downloaded = drive.CreateFile({'id':'1rkxPEPPICEu99JchWDBVKsYCFstSRWQF'})\n",
        "downloaded.GetContentFile('category.csv')\n",
        "\n",
        "downloaded = drive.CreateFile({'id':'1CjI3HQsB3Cma2SrTMLJ9PUvSHCK9r_Lp'})\n",
        "downloaded.GetContentFile('test.csv')\n",
        "\n",
        "downloaded = drive.CreateFile({'id':'1yP6LE6hbS8nICho0W7KLqoicYu4PEeA8'})\n",
        "downloaded.GetContentFile('train.csv')"
      ],
      "execution_count": 0,
      "outputs": []
    },
    {
      "cell_type": "markdown",
      "metadata": {
        "id": "lvUApTiaX74g",
        "colab_type": "text"
      },
      "source": [
        "# Предобработка данных"
      ]
    },
    {
      "cell_type": "markdown",
      "metadata": {
        "id": "Ewc27x-6YFZQ",
        "colab_type": "text"
      },
      "source": [
        "## Загрузка данных"
      ]
    },
    {
      "cell_type": "code",
      "metadata": {
        "id": "SJNw7WUfXuxj",
        "colab_type": "code",
        "colab": {}
      },
      "source": [
        "dtrain = pd.read_csv('train.csv', index_col=0)\n",
        "dtest = pd.read_csv('test.csv', index_col=0)\n",
        "dcategory = pd.read_csv('category.csv', index_col=0)"
      ],
      "execution_count": 0,
      "outputs": []
    },
    {
      "cell_type": "code",
      "metadata": {
        "id": "qnPZpM-lptDO",
        "colab_type": "code",
        "outputId": "6d7bb0d0-a67c-4a51-fa95-27cab151776c",
        "colab": {
          "base_uri": "https://localhost:8080/",
          "height": 54
        }
      },
      "source": [
        "dtrain.shape"
      ],
      "execution_count": 6,
      "outputs": [
        {
          "output_type": "execute_result",
          "data": {
            "text/plain": [
              "(489517, 4)"
            ]
          },
          "metadata": {
            "tags": []
          },
          "execution_count": 6
        }
      ]
    },
    {
      "cell_type": "markdown",
      "metadata": {
        "id": "voVz4AlFYLKz",
        "colab_type": "text"
      },
      "source": [
        "Посмотрим с какими категориями имеем дело:"
      ]
    },
    {
      "cell_type": "code",
      "metadata": {
        "id": "RSfXASYCYIsP",
        "colab_type": "code",
        "outputId": "e5c05e1b-40e8-4ad8-b580-dcfaf29a87d5",
        "colab": {
          "base_uri": "https://localhost:8080/",
          "height": 1000
        }
      },
      "source": [
        "dcategory"
      ],
      "execution_count": 7,
      "outputs": [
        {
          "output_type": "execute_result",
          "data": {
            "text/html": [
              "<div>\n",
              "<style scoped>\n",
              "    .dataframe tbody tr th:only-of-type {\n",
              "        vertical-align: middle;\n",
              "    }\n",
              "\n",
              "    .dataframe tbody tr th {\n",
              "        vertical-align: top;\n",
              "    }\n",
              "\n",
              "    .dataframe thead th {\n",
              "        text-align: right;\n",
              "    }\n",
              "</style>\n",
              "<table border=\"1\" class=\"dataframe\">\n",
              "  <thead>\n",
              "    <tr style=\"text-align: right;\">\n",
              "      <th></th>\n",
              "      <th>name</th>\n",
              "    </tr>\n",
              "    <tr>\n",
              "      <th>category_id</th>\n",
              "      <th></th>\n",
              "    </tr>\n",
              "  </thead>\n",
              "  <tbody>\n",
              "    <tr>\n",
              "      <th>0</th>\n",
              "      <td>Бытовая электроника|Телефоны|iPhone</td>\n",
              "    </tr>\n",
              "    <tr>\n",
              "      <th>1</th>\n",
              "      <td>Бытовая электроника|Ноутбуки</td>\n",
              "    </tr>\n",
              "    <tr>\n",
              "      <th>2</th>\n",
              "      <td>Бытовая электроника|Телефоны|Samsung</td>\n",
              "    </tr>\n",
              "    <tr>\n",
              "      <th>3</th>\n",
              "      <td>Бытовая электроника|Планшеты и электронные кни...</td>\n",
              "    </tr>\n",
              "    <tr>\n",
              "      <th>4</th>\n",
              "      <td>Бытовая электроника|Игры, приставки и программ...</td>\n",
              "    </tr>\n",
              "    <tr>\n",
              "      <th>5</th>\n",
              "      <td>Бытовая электроника|Аудио и видео|Телевизоры и...</td>\n",
              "    </tr>\n",
              "    <tr>\n",
              "      <th>6</th>\n",
              "      <td>Бытовая электроника|Телефоны|Другие марки</td>\n",
              "    </tr>\n",
              "    <tr>\n",
              "      <th>7</th>\n",
              "      <td>Бытовая электроника|Настольные компьютеры</td>\n",
              "    </tr>\n",
              "    <tr>\n",
              "      <th>8</th>\n",
              "      <td>Бытовая электроника|Игры, приставки и программ...</td>\n",
              "    </tr>\n",
              "    <tr>\n",
              "      <th>9</th>\n",
              "      <td>Бытовая электроника|Телефоны|Аксессуары|Чехлы ...</td>\n",
              "    </tr>\n",
              "    <tr>\n",
              "      <th>10</th>\n",
              "      <td>Бытовая электроника|Телефоны|Nokia</td>\n",
              "    </tr>\n",
              "    <tr>\n",
              "      <th>11</th>\n",
              "      <td>Бытовая электроника|Телефоны|Sony</td>\n",
              "    </tr>\n",
              "    <tr>\n",
              "      <th>12</th>\n",
              "      <td>Бытовая электроника|Аудио и видео|Акустика, ко...</td>\n",
              "    </tr>\n",
              "    <tr>\n",
              "      <th>13</th>\n",
              "      <td>Бытовая электроника|Товары для компьютера|Мони...</td>\n",
              "    </tr>\n",
              "    <tr>\n",
              "      <th>14</th>\n",
              "      <td>Бытовая электроника|Товары для компьютера|Сете...</td>\n",
              "    </tr>\n",
              "    <tr>\n",
              "      <th>15</th>\n",
              "      <td>Для дома и дачи|Ремонт и строительство|Стройма...</td>\n",
              "    </tr>\n",
              "    <tr>\n",
              "      <th>16</th>\n",
              "      <td>Для дома и дачи|Мебель и интерьер|Кровати, див...</td>\n",
              "    </tr>\n",
              "    <tr>\n",
              "      <th>17</th>\n",
              "      <td>Для дома и дачи|Ремонт и строительство|Инструм...</td>\n",
              "    </tr>\n",
              "    <tr>\n",
              "      <th>18</th>\n",
              "      <td>Для дома и дачи|Мебель и интерьер|Шкафы и комоды</td>\n",
              "    </tr>\n",
              "    <tr>\n",
              "      <th>19</th>\n",
              "      <td>Для дома и дачи|Мебель и интерьер|Предметы инт...</td>\n",
              "    </tr>\n",
              "    <tr>\n",
              "      <th>20</th>\n",
              "      <td>Для дома и дачи|Посуда и товары для кухни|Посуда</td>\n",
              "    </tr>\n",
              "    <tr>\n",
              "      <th>21</th>\n",
              "      <td>Для дома и дачи|Ремонт и строительство|Сантехн...</td>\n",
              "    </tr>\n",
              "    <tr>\n",
              "      <th>22</th>\n",
              "      <td>Для дома и дачи|Мебель и интерьер|Столы и стулья</td>\n",
              "    </tr>\n",
              "    <tr>\n",
              "      <th>23</th>\n",
              "      <td>Для дома и дачи|Мебель и интерьер|Другое</td>\n",
              "    </tr>\n",
              "    <tr>\n",
              "      <th>24</th>\n",
              "      <td>Для дома и дачи|Растения</td>\n",
              "    </tr>\n",
              "    <tr>\n",
              "      <th>25</th>\n",
              "      <td>Для дома и дачи|Ремонт и строительство|Двери</td>\n",
              "    </tr>\n",
              "    <tr>\n",
              "      <th>26</th>\n",
              "      <td>Для дома и дачи|Бытовая техника|Для дома|Стира...</td>\n",
              "    </tr>\n",
              "    <tr>\n",
              "      <th>27</th>\n",
              "      <td>Для дома и дачи|Мебель и интерьер|Текстиль и к...</td>\n",
              "    </tr>\n",
              "    <tr>\n",
              "      <th>28</th>\n",
              "      <td>Для дома и дачи|Мебель и интерьер|Освещение</td>\n",
              "    </tr>\n",
              "    <tr>\n",
              "      <th>29</th>\n",
              "      <td>Для дома и дачи|Бытовая техника|Для кухни|Мелк...</td>\n",
              "    </tr>\n",
              "    <tr>\n",
              "      <th>30</th>\n",
              "      <td>Личные вещи|Товары для детей и игрушки|Игрушки</td>\n",
              "    </tr>\n",
              "    <tr>\n",
              "      <th>31</th>\n",
              "      <td>Личные вещи|Одежда, обувь, аксессуары|Аксессуары</td>\n",
              "    </tr>\n",
              "    <tr>\n",
              "      <th>32</th>\n",
              "      <td>Личные вещи|Товары для детей и игрушки|Детские...</td>\n",
              "    </tr>\n",
              "    <tr>\n",
              "      <th>33</th>\n",
              "      <td>Личные вещи|Одежда, обувь, аксессуары|Женская ...</td>\n",
              "    </tr>\n",
              "    <tr>\n",
              "      <th>34</th>\n",
              "      <td>Личные вещи|Товары для детей и игрушки|Детская...</td>\n",
              "    </tr>\n",
              "    <tr>\n",
              "      <th>35</th>\n",
              "      <td>Личные вещи|Одежда, обувь, аксессуары|Женская ...</td>\n",
              "    </tr>\n",
              "    <tr>\n",
              "      <th>36</th>\n",
              "      <td>Личные вещи|Часы и украшения|Часы</td>\n",
              "    </tr>\n",
              "    <tr>\n",
              "      <th>37</th>\n",
              "      <td>Личные вещи|Красота и здоровье|Приборы и аксес...</td>\n",
              "    </tr>\n",
              "    <tr>\n",
              "      <th>38</th>\n",
              "      <td>Личные вещи|Одежда, обувь, аксессуары|Женская ...</td>\n",
              "    </tr>\n",
              "    <tr>\n",
              "      <th>39</th>\n",
              "      <td>Личные вещи|Одежда, обувь, аксессуары|Женская ...</td>\n",
              "    </tr>\n",
              "    <tr>\n",
              "      <th>40</th>\n",
              "      <td>Личные вещи|Часы и украшения|Ювелирные изделия</td>\n",
              "    </tr>\n",
              "    <tr>\n",
              "      <th>41</th>\n",
              "      <td>Личные вещи|Товары для детей и игрушки|Товары ...</td>\n",
              "    </tr>\n",
              "    <tr>\n",
              "      <th>42</th>\n",
              "      <td>Хобби и отдых|Спорт и отдых|Зимние виды спорта</td>\n",
              "    </tr>\n",
              "    <tr>\n",
              "      <th>43</th>\n",
              "      <td>Хобби и отдых|Книги и журналы|Книги</td>\n",
              "    </tr>\n",
              "    <tr>\n",
              "      <th>44</th>\n",
              "      <td>Хобби и отдых|Коллекционирование|Другое</td>\n",
              "    </tr>\n",
              "    <tr>\n",
              "      <th>45</th>\n",
              "      <td>Хобби и отдых|Коллекционирование|Монеты</td>\n",
              "    </tr>\n",
              "    <tr>\n",
              "      <th>46</th>\n",
              "      <td>Хобби и отдых|Спорт и отдых|Фитнес и тренажёры</td>\n",
              "    </tr>\n",
              "    <tr>\n",
              "      <th>47</th>\n",
              "      <td>Хобби и отдых|Спорт и отдых|Другое</td>\n",
              "    </tr>\n",
              "    <tr>\n",
              "      <th>48</th>\n",
              "      <td>Хобби и отдых|Билеты и путешествия|Путешествия</td>\n",
              "    </tr>\n",
              "    <tr>\n",
              "      <th>49</th>\n",
              "      <td>Хобби и отдых|Охота и рыбалка</td>\n",
              "    </tr>\n",
              "    <tr>\n",
              "      <th>50</th>\n",
              "      <td>Хобби и отдых|Музыкальные инструменты|Гитары и...</td>\n",
              "    </tr>\n",
              "    <tr>\n",
              "      <th>51</th>\n",
              "      <td>Хобби и отдых|Книги и журналы|Учебная литература</td>\n",
              "    </tr>\n",
              "    <tr>\n",
              "      <th>52</th>\n",
              "      <td>Хобби и отдых|Музыкальные инструменты|Для студ...</td>\n",
              "    </tr>\n",
              "    <tr>\n",
              "      <th>53</th>\n",
              "      <td>Хобби и отдых|Велосипеды|Запчасти и аксессуары</td>\n",
              "    </tr>\n",
              "  </tbody>\n",
              "</table>\n",
              "</div>"
            ],
            "text/plain": [
              "                                                          name\n",
              "category_id                                                   \n",
              "0                          Бытовая электроника|Телефоны|iPhone\n",
              "1                                 Бытовая электроника|Ноутбуки\n",
              "2                         Бытовая электроника|Телефоны|Samsung\n",
              "3            Бытовая электроника|Планшеты и электронные кни...\n",
              "4            Бытовая электроника|Игры, приставки и программ...\n",
              "5            Бытовая электроника|Аудио и видео|Телевизоры и...\n",
              "6                    Бытовая электроника|Телефоны|Другие марки\n",
              "7                    Бытовая электроника|Настольные компьютеры\n",
              "8            Бытовая электроника|Игры, приставки и программ...\n",
              "9            Бытовая электроника|Телефоны|Аксессуары|Чехлы ...\n",
              "10                          Бытовая электроника|Телефоны|Nokia\n",
              "11                           Бытовая электроника|Телефоны|Sony\n",
              "12           Бытовая электроника|Аудио и видео|Акустика, ко...\n",
              "13           Бытовая электроника|Товары для компьютера|Мони...\n",
              "14           Бытовая электроника|Товары для компьютера|Сете...\n",
              "15           Для дома и дачи|Ремонт и строительство|Стройма...\n",
              "16           Для дома и дачи|Мебель и интерьер|Кровати, див...\n",
              "17           Для дома и дачи|Ремонт и строительство|Инструм...\n",
              "18            Для дома и дачи|Мебель и интерьер|Шкафы и комоды\n",
              "19           Для дома и дачи|Мебель и интерьер|Предметы инт...\n",
              "20            Для дома и дачи|Посуда и товары для кухни|Посуда\n",
              "21           Для дома и дачи|Ремонт и строительство|Сантехн...\n",
              "22            Для дома и дачи|Мебель и интерьер|Столы и стулья\n",
              "23                    Для дома и дачи|Мебель и интерьер|Другое\n",
              "24                                    Для дома и дачи|Растения\n",
              "25                Для дома и дачи|Ремонт и строительство|Двери\n",
              "26           Для дома и дачи|Бытовая техника|Для дома|Стира...\n",
              "27           Для дома и дачи|Мебель и интерьер|Текстиль и к...\n",
              "28                 Для дома и дачи|Мебель и интерьер|Освещение\n",
              "29           Для дома и дачи|Бытовая техника|Для кухни|Мелк...\n",
              "30              Личные вещи|Товары для детей и игрушки|Игрушки\n",
              "31            Личные вещи|Одежда, обувь, аксессуары|Аксессуары\n",
              "32           Личные вещи|Товары для детей и игрушки|Детские...\n",
              "33           Личные вещи|Одежда, обувь, аксессуары|Женская ...\n",
              "34           Личные вещи|Товары для детей и игрушки|Детская...\n",
              "35           Личные вещи|Одежда, обувь, аксессуары|Женская ...\n",
              "36                           Личные вещи|Часы и украшения|Часы\n",
              "37           Личные вещи|Красота и здоровье|Приборы и аксес...\n",
              "38           Личные вещи|Одежда, обувь, аксессуары|Женская ...\n",
              "39           Личные вещи|Одежда, обувь, аксессуары|Женская ...\n",
              "40              Личные вещи|Часы и украшения|Ювелирные изделия\n",
              "41           Личные вещи|Товары для детей и игрушки|Товары ...\n",
              "42              Хобби и отдых|Спорт и отдых|Зимние виды спорта\n",
              "43                         Хобби и отдых|Книги и журналы|Книги\n",
              "44                     Хобби и отдых|Коллекционирование|Другое\n",
              "45                     Хобби и отдых|Коллекционирование|Монеты\n",
              "46              Хобби и отдых|Спорт и отдых|Фитнес и тренажёры\n",
              "47                          Хобби и отдых|Спорт и отдых|Другое\n",
              "48              Хобби и отдых|Билеты и путешествия|Путешествия\n",
              "49                               Хобби и отдых|Охота и рыбалка\n",
              "50           Хобби и отдых|Музыкальные инструменты|Гитары и...\n",
              "51            Хобби и отдых|Книги и журналы|Учебная литература\n",
              "52           Хобби и отдых|Музыкальные инструменты|Для студ...\n",
              "53              Хобби и отдых|Велосипеды|Запчасти и аксессуары"
            ]
          },
          "metadata": {
            "tags": []
          },
          "execution_count": 7
        }
      ]
    },
    {
      "cell_type": "markdown",
      "metadata": {
        "id": "-hYwA-oJYX4m",
        "colab_type": "text"
      },
      "source": [
        "Будем решать задачу классификации. Обучать и проверять модель будем на** dtrain**, для проверки используем метрику **accuracy**. "
      ]
    },
    {
      "cell_type": "markdown",
      "metadata": {
        "id": "Mxojte4lgrg6",
        "colab_type": "text"
      },
      "source": [
        "Посмотрим на распределение классов, это нужно для того, чтобы понять не имеем ли мы дело с несбалансированными классами:"
      ]
    },
    {
      "cell_type": "code",
      "metadata": {
        "id": "ADTGxinBYRpG",
        "colab_type": "code",
        "outputId": "bdb70a8f-5853-4976-ebb3-5857ae294ee9",
        "colab": {
          "base_uri": "https://localhost:8080/",
          "height": 372
        }
      },
      "source": [
        "plt.figure(figsize=(15,5))\n",
        "sns.countplot(dtrain['category_id'])"
      ],
      "execution_count": 8,
      "outputs": [
        {
          "output_type": "execute_result",
          "data": {
            "text/plain": [
              "<matplotlib.axes._subplots.AxesSubplot at 0x7f36834c7f98>"
            ]
          },
          "metadata": {
            "tags": []
          },
          "execution_count": 8
        },
        {
          "output_type": "display_data",
          "data": {
            "image/png": "[encoded data removed]",
            "text/plain": [
              "<Figure size 1080x360 with 1 Axes>"
            ]
          },
          "metadata": {
            "tags": []
          }
        }
      ]
    },
    {
      "cell_type": "markdown",
      "metadata": {
        "id": "RJ9JtVGEg5Fh",
        "colab_type": "text"
      },
      "source": [
        "Видно на глаз, что все категории распределены +- одинаково. "
      ]
    },
    {
      "cell_type": "markdown",
      "metadata": {
        "id": "wZX3YPk-hDqY",
        "colab_type": "text"
      },
      "source": [
        "## Подготовка данных"
      ]
    },
    {
      "cell_type": "markdown",
      "metadata": {
        "id": "i4lyxToOhIsp",
        "colab_type": "text"
      },
      "source": [
        "В данном блоке мы отчистим данные и произведем лематизацию, это нужно для того, чтобы уменшить размерность будующих признаков."
      ]
    },
    {
      "cell_type": "code",
      "metadata": {
        "id": "PW6URF4ag14m",
        "colab_type": "code",
        "colab": {}
      },
      "source": [
        "import re\n",
        "\n",
        "def preprocess_text(text):\n",
        "    text = text.lower().replace(\"ё\", \"е\")\n",
        "    text = re.sub('((www\\.[^\\s]+)|(https?://[^\\s]+))', 'URL', text)\n",
        "    text = re.sub('@[^\\s]+', 'USER', text)\n",
        "    text = re.sub('[^a-zA-Zа-яА-Я0-9]+', ' ', text)\n",
        "    text = re.sub(' +', ' ', text)\n",
        "    return text.strip()"
      ],
      "execution_count": 0,
      "outputs": []
    },
    {
      "cell_type": "markdown",
      "metadata": {
        "id": "c4uuUq-chbaB",
        "colab_type": "text"
      },
      "source": [
        "Проверим, как работает функция:"
      ]
    },
    {
      "cell_type": "code",
      "metadata": {
        "id": "meJJxa0BhZvh",
        "colab_type": "code",
        "outputId": "c1fd7980-673c-46cf-f76c-349c7619cbe9",
        "colab": {
          "base_uri": "https://localhost:8080/",
          "height": 54
        }
      },
      "source": [
        "print(preprocess_text('15 Стульев, 8 ХолодиЛьников.:'))"
      ],
      "execution_count": 10,
      "outputs": [
        {
          "output_type": "stream",
          "text": [
            "15 стульев 8 холодильников\n"
          ],
          "name": "stdout"
        }
      ]
    },
    {
      "cell_type": "code",
      "metadata": {
        "id": "kEBhloM-iU0U",
        "colab_type": "code",
        "colab": {}
      },
      "source": [
        "dtrain['title'] = dtrain.apply(lambda r: preprocess_text(r['title']), axis=1)\n",
        "dtrain['description'] = dtrain.apply(lambda r: preprocess_text(r['description']), axis=1)"
      ],
      "execution_count": 0,
      "outputs": []
    },
    {
      "cell_type": "markdown",
      "metadata": {
        "id": "dyh4P1odimtf",
        "colab_type": "text"
      },
      "source": [
        "Посмотрим на рузельтат:"
      ]
    },
    {
      "cell_type": "code",
      "metadata": {
        "id": "1vVUxk4jihL6",
        "colab_type": "code",
        "outputId": "5cd567e5-87f1-433d-dcac-825917e485cc",
        "colab": {
          "base_uri": "https://localhost:8080/",
          "height": 252
        }
      },
      "source": [
        "dtrain.head()"
      ],
      "execution_count": 13,
      "outputs": [
        {
          "output_type": "execute_result",
          "data": {
            "text/html": [
              "<div>\n",
              "<style scoped>\n",
              "    .dataframe tbody tr th:only-of-type {\n",
              "        vertical-align: middle;\n",
              "    }\n",
              "\n",
              "    .dataframe tbody tr th {\n",
              "        vertical-align: top;\n",
              "    }\n",
              "\n",
              "    .dataframe thead th {\n",
              "        text-align: right;\n",
              "    }\n",
              "</style>\n",
              "<table border=\"1\" class=\"dataframe\">\n",
              "  <thead>\n",
              "    <tr style=\"text-align: right;\">\n",
              "      <th></th>\n",
              "      <th>title</th>\n",
              "      <th>description</th>\n",
              "      <th>price</th>\n",
              "      <th>category_id</th>\n",
              "    </tr>\n",
              "    <tr>\n",
              "      <th>item_id</th>\n",
              "      <th></th>\n",
              "      <th></th>\n",
              "      <th></th>\n",
              "      <th></th>\n",
              "    </tr>\n",
              "  </thead>\n",
              "  <tbody>\n",
              "    <tr>\n",
              "      <th>0</th>\n",
              "      <td>картина</td>\n",
              "      <td>гобелен размеры 139х84см</td>\n",
              "      <td>1000.0</td>\n",
              "      <td>19</td>\n",
              "    </tr>\n",
              "    <tr>\n",
              "      <th>1</th>\n",
              "      <td>стулья из прессованной кожи</td>\n",
              "      <td>продам недорого 4 стула из светлой прессованно...</td>\n",
              "      <td>1250.0</td>\n",
              "      <td>22</td>\n",
              "    </tr>\n",
              "    <tr>\n",
              "      <th>2</th>\n",
              "      <td>домашняя мини баня</td>\n",
              "      <td>мини баня мб 1 мини сауна предназначена для пр...</td>\n",
              "      <td>13000.0</td>\n",
              "      <td>37</td>\n",
              "    </tr>\n",
              "    <tr>\n",
              "      <th>3</th>\n",
              "      <td>эксклюзивная коллекция книг трансаэро подарок</td>\n",
              "      <td>продам эксклюзивную коллекцию книг выпущенную ...</td>\n",
              "      <td>4000.0</td>\n",
              "      <td>43</td>\n",
              "    </tr>\n",
              "    <tr>\n",
              "      <th>4</th>\n",
              "      <td>ноутбук aser</td>\n",
              "      <td>продается ноутбук acer e5 511c2ta куплен в кон...</td>\n",
              "      <td>19000.0</td>\n",
              "      <td>1</td>\n",
              "    </tr>\n",
              "  </tbody>\n",
              "</table>\n",
              "</div>"
            ],
            "text/plain": [
              "                                                 title  ... category_id\n",
              "item_id                                                 ...            \n",
              "0                                              картина  ...          19\n",
              "1                          стулья из прессованной кожи  ...          22\n",
              "2                                   домашняя мини баня  ...          37\n",
              "3        эксклюзивная коллекция книг трансаэро подарок  ...          43\n",
              "4                                         ноутбук aser  ...           1\n",
              "\n",
              "[5 rows x 4 columns]"
            ]
          },
          "metadata": {
            "tags": []
          },
          "execution_count": 13
        }
      ]
    },
    {
      "cell_type": "code",
      "metadata": {
        "id": "YvVwNyAhpicf",
        "colab_type": "code",
        "outputId": "b955578c-4c8c-41d9-ebc0-ba1deb58adbb",
        "colab": {
          "base_uri": "https://localhost:8080/",
          "height": 642
        }
      },
      "source": [
        "text = [i.split(' ') for i in dtrain['description']]\n",
        "sentence_lengths = [len(tokens) for tokens in text]\n",
        "# порисуем\n",
        "fig = plt.figure(figsize=(10, 10)) \n",
        "plt.xlabel('Длина предложений')\n",
        "plt.ylabel('Кол-во предложений')\n",
        "plt.title('Распределение слов')\n",
        "plt.hist(sentence_lengths)\n",
        "plt.show()"
      ],
      "execution_count": 15,
      "outputs": [
        {
          "output_type": "display_data",
          "data": {
            "image/png": "[encoded data removed]",
            "text/plain": [
              "<Figure size 720x720 with 1 Axes>"
            ]
          },
          "metadata": {
            "tags": []
          }
        }
      ]
    },
    {
      "cell_type": "code",
      "metadata": {
        "id": "MHmHqkbMpyt6",
        "colab_type": "code",
        "outputId": "5563f8a0-3e86-4a98-ba90-48989318e4f0",
        "colab": {
          "base_uri": "https://localhost:8080/",
          "height": 54
        }
      },
      "source": [
        "max(sentence_lengths)"
      ],
      "execution_count": 16,
      "outputs": [
        {
          "output_type": "execute_result",
          "data": {
            "text/plain": [
              "619"
            ]
          },
          "metadata": {
            "tags": []
          },
          "execution_count": 16
        }
      ]
    },
    {
      "cell_type": "code",
      "metadata": {
        "id": "MzucKYUMq3k0",
        "colab_type": "code",
        "outputId": "139f63f6-cc09-47c9-f528-cf8c3bcd1cb9",
        "colab": {
          "base_uri": "https://localhost:8080/",
          "height": 946
        }
      },
      "source": [
        "dtrain['category_id'].value_counts()"
      ],
      "execution_count": 17,
      "outputs": [
        {
          "output_type": "execute_result",
          "data": {
            "text/plain": [
              "49    9998\n",
              "18    9932\n",
              "29    9904\n",
              "2     9887\n",
              "37    9884\n",
              "23    9804\n",
              "39    9798\n",
              "21    9767\n",
              "45    9755\n",
              "27    9732\n",
              "11    9674\n",
              "44    9668\n",
              "35    9661\n",
              "22    9655\n",
              "47    9638\n",
              "53    9601\n",
              "28    9573\n",
              "32    9451\n",
              "15    9435\n",
              "12    9416\n",
              "50    9379\n",
              "52    9264\n",
              "42    9260\n",
              "36    9232\n",
              "17    9213\n",
              "20    9142\n",
              "43    9065\n",
              "13    9008\n",
              "24    8972\n",
              "26    8948\n",
              "34    8917\n",
              "19    8906\n",
              "41    8879\n",
              "0     8862\n",
              "48    8819\n",
              "10    8769\n",
              "8     8698\n",
              "6     8697\n",
              "4     8616\n",
              "3     8604\n",
              "7     8592\n",
              "51    8584\n",
              "38    8516\n",
              "31    8495\n",
              "16    8405\n",
              "46    8343\n",
              "5     8241\n",
              "33    8234\n",
              "14    8231\n",
              "30    8223\n",
              "25    8106\n",
              "9     8033\n",
              "1     8022\n",
              "40    8009\n",
              "Name: category_id, dtype: int64"
            ]
          },
          "metadata": {
            "tags": []
          },
          "execution_count": 17
        }
      ]
    },
    {
      "cell_type": "markdown",
      "metadata": {
        "id": "ixJt3YCxp-tF",
        "colab_type": "text"
      },
      "source": [
        "Чуть-чуть обрежем предложения, но главное чтоб распределение классов сохранилось. "
      ]
    },
    {
      "cell_type": "code",
      "metadata": {
        "id": "3rg8qJNO6UsH",
        "colab_type": "code",
        "colab": {
          "base_uri": "https://localhost:8080/",
          "height": 946
        },
        "outputId": "94a86ef7-3f53-4b8e-af41-bfb70402e17b"
      },
      "source": [
        "dtrain['len'] = dtrain['description'].apply(lambda x: len(x.split(' ')))\n",
        "\n",
        "dtrain = dtrain.where(dtrain['len'] < 200)\n",
        "dtrain = dtrain.dropna()\n",
        "dtrain['category_id'].value_counts()"
      ],
      "execution_count": 18,
      "outputs": [
        {
          "output_type": "execute_result",
          "data": {
            "text/plain": [
              "18.0    9881\n",
              "39.0    9779\n",
              "2.0     9745\n",
              "23.0    9721\n",
              "29.0    9689\n",
              "35.0    9658\n",
              "44.0    9633\n",
              "22.0    9620\n",
              "27.0    9609\n",
              "49.0    9563\n",
              "37.0    9542\n",
              "21.0    9531\n",
              "45.0    9495\n",
              "28.0    9445\n",
              "53.0    9445\n",
              "11.0    9421\n",
              "47.0    9302\n",
              "50.0    9194\n",
              "42.0    9191\n",
              "12.0    9170\n",
              "15.0    9057\n",
              "20.0    9012\n",
              "32.0    8926\n",
              "13.0    8922\n",
              "17.0    8907\n",
              "26.0    8865\n",
              "0.0     8842\n",
              "24.0    8824\n",
              "43.0    8822\n",
              "36.0    8810\n",
              "19.0    8810\n",
              "41.0    8770\n",
              "34.0    8725\n",
              "10.0    8616\n",
              "8.0     8574\n",
              "4.0     8550\n",
              "38.0    8502\n",
              "51.0    8490\n",
              "3.0     8401\n",
              "31.0    8386\n",
              "16.0    8353\n",
              "7.0     8332\n",
              "52.0    8315\n",
              "48.0    8266\n",
              "6.0     8257\n",
              "33.0    8221\n",
              "14.0    8017\n",
              "25.0    7979\n",
              "40.0    7978\n",
              "5.0     7975\n",
              "30.0    7972\n",
              "46.0    7957\n",
              "9.0     7918\n",
              "1.0     7700\n",
              "Name: category_id, dtype: int64"
            ]
          },
          "metadata": {
            "tags": []
          },
          "execution_count": 18
        }
      ]
    },
    {
      "cell_type": "markdown",
      "metadata": {
        "id": "n5jAcl7ni2Y_",
        "colab_type": "text"
      },
      "source": [
        "Отлично, теперь разделим данные на обучающие и тестовые:"
      ]
    },
    {
      "cell_type": "code",
      "metadata": {
        "id": "rYh456Pdiw5X",
        "colab_type": "code",
        "colab": {}
      },
      "source": [
        "X_train, X_test, y_train, y_test = train_test_split(dtrain[\"description\"], dtrain[\"category_id\"],\n",
        "                                                    test_size=0.3, random_state=40)"
      ],
      "execution_count": 0,
      "outputs": []
    },
    {
      "cell_type": "markdown",
      "metadata": {
        "id": "ack0sQQYjCMw",
        "colab_type": "text"
      },
      "source": [
        "Для того, чтобы начать обучать модели необходимо текст представить числовой формат, в этом поможет **TF-IDF** преобразование и алгоритм **Word2Vec**. Я преобразую данные и через **TF-IDF**, и через **Word2Vec**, а после сравню результаты. Для классификации буду использовать ***Логистическую регрессию***. "
      ]
    },
    {
      "cell_type": "markdown",
      "metadata": {
        "id": "0Q1OKiTNj2lX",
        "colab_type": "text"
      },
      "source": [
        "# ML"
      ]
    },
    {
      "cell_type": "markdown",
      "metadata": {
        "id": "9oWyIt_vmSqf",
        "colab_type": "text"
      },
      "source": [
        "## TF-IDF"
      ]
    },
    {
      "cell_type": "markdown",
      "metadata": {
        "id": "BAHX5Qe6cmdu",
        "colab_type": "text"
      },
      "source": [
        "**TF-IDF** - это статистическая мера, используемая для оценки важности слова в контексте корпуска документа. Вес некоторого слова (n-граммы) в контексте документа, являющегося частью коллекции корпуса. "
      ]
    },
    {
      "cell_type": "markdown",
      "metadata": {
        "id": "P16xeOy6kg2l",
        "colab_type": "text"
      },
      "source": [
        "### Векторизация данных"
      ]
    },
    {
      "cell_type": "markdown",
      "metadata": {
        "id": "qxDFFma-knPL",
        "colab_type": "text"
      },
      "source": [
        "Я буду использовать алгоритм **TF-IDF,** который реализован в библиотеке **sklearn**. "
      ]
    },
    {
      "cell_type": "markdown",
      "metadata": {
        "id": "uOnp8NSMk0X3",
        "colab_type": "text"
      },
      "source": [
        "Чтобы улучшить качество алгоритма я использую n-граммные модели, а именно двух-граммные:"
      ]
    },
    {
      "cell_type": "code",
      "metadata": {
        "id": "JpQyRP7VjBUL",
        "colab_type": "code",
        "colab": {}
      },
      "source": [
        "def tfidf(data):\n",
        "    tfidf_vectorizer = TfidfVectorizer(ngram_range=(1, 2))\n",
        "\n",
        "    train = tfidf_vectorizer.fit_transform(data)\n",
        "\n",
        "    return train, tfidf_vectorizer\n",
        "\n",
        "X_train_tfidf, tfidf_vectorizer = tfidf(X_train)\n",
        "X_test_tfidf = tfidf_vectorizer.transform(X_test)"
      ],
      "execution_count": 0,
      "outputs": []
    },
    {
      "cell_type": "code",
      "metadata": {
        "id": "7RHEBMOclEVE",
        "colab_type": "code",
        "colab": {
          "base_uri": "https://localhost:8080/",
          "height": 71
        },
        "outputId": "de8028f2-ebe6-4191-be59-59b6ffcb9f29"
      },
      "source": [
        "print('Размерность обучающего набора после векторизации: ', X_train_tfidf.shape, len(y_train))\n",
        "print('Размерность тестирующего набора после векторизации: ', X_test_tfidf.shape, len(y_test))"
      ],
      "execution_count": 23,
      "outputs": [
        {
          "output_type": "stream",
          "text": [
            "Размерность обучающего набора после векторизации:  (335079, 3729758) 335079\n",
            "Размерность тестирующего набора после векторизации:  (143606, 3729758) 143606\n"
          ],
          "name": "stdout"
        }
      ]
    },
    {
      "cell_type": "markdown",
      "metadata": {
        "id": "zqPv1kJ8lSdB",
        "colab_type": "text"
      },
      "source": [
        "### Логистическая регресси"
      ]
    },
    {
      "cell_type": "code",
      "metadata": {
        "id": "m-3HyhIqlQLP",
        "colab_type": "code",
        "colab": {}
      },
      "source": [
        "lr = LogisticRegression(C=5, random_state=0, solver='saga',\n",
        "                        multi_class='multinomial', n_jobs=-1)\n",
        "lr.fit(X_train_tfidf, y_train)\n",
        "\n",
        "y_pred = lr.predict(X_test_tfidf)"
      ],
      "execution_count": 0,
      "outputs": []
    },
    {
      "cell_type": "code",
      "metadata": {
        "id": "9lvS5Unrl6w3",
        "colab_type": "code",
        "colab": {
          "base_uri": "https://localhost:8080/",
          "height": 87
        },
        "outputId": "bf1ee34d-6e26-40ea-ecb5-0daffa6e8a5d"
      },
      "source": [
        "print('Accuracy: {:.3f}'.format(accuracy_score(y_test, y_pred)))\n",
        "print(\"Правильность на обучающем наборе: {:.3f}\".format(lr.score(X_train_tfidf, y_train)))\n",
        "print(\"Правильность на тестовом наборе: {:.3f}\".format(lr.score(X_test_tfidf, y_test)))"
      ],
      "execution_count": 25,
      "outputs": [
        {
          "output_type": "stream",
          "text": [
            "Accuracy: 0.797\n",
            "Правильность на обучающем наборе: 0.977\n",
            "Правильность на тестовом наборе: 0.797\n"
          ],
          "name": "stdout"
        }
      ]
    },
    {
      "cell_type": "markdown",
      "metadata": {
        "id": "6j5h5LoS-_R3",
        "colab_type": "text"
      },
      "source": [
        "оверфитнулись, так сказать (("
      ]
    },
    {
      "cell_type": "markdown",
      "metadata": {
        "id": "CVwTZe7lmEID",
        "colab_type": "text"
      },
      "source": [
        "Результат уже хороший, посмотрим, что покажет Word2Vec:"
      ]
    },
    {
      "cell_type": "code",
      "metadata": {
        "id": "xh5KQGLK-RdC",
        "colab_type": "code",
        "colab": {}
      },
      "source": [
        "del lr"
      ],
      "execution_count": 0,
      "outputs": []
    },
    {
      "cell_type": "markdown",
      "metadata": {
        "id": "hEHA-TcVmbCn",
        "colab_type": "text"
      },
      "source": [
        "## Word2Vec"
      ]
    },
    {
      "cell_type": "markdown",
      "metadata": {
        "id": "ZmTb5NesdvWR",
        "colab_type": "text"
      },
      "source": [
        "**W2V **- это инстумент для расчета векторных представлений слов. Нахождению связей между контекстами слов согласно предположению, что слова, находящие в похожих контекстах, имеют тенденцию значит похожие вещи (быть семантически близки)."
      ]
    },
    {
      "cell_type": "code",
      "metadata": {
        "id": "fEIZk23imDPs",
        "colab_type": "code",
        "colab": {}
      },
      "source": [
        "docs = [doc.split() for doc in dtrain['text']]"
      ],
      "execution_count": 0,
      "outputs": []
    },
    {
      "cell_type": "markdown",
      "metadata": {
        "id": "U4ExCBoGqIe5",
        "colab_type": "text"
      },
      "source": [
        "Обучим W2V на наших данные с окном размером 3:"
      ]
    },
    {
      "cell_type": "code",
      "metadata": {
        "id": "LAhjovpipH_u",
        "colab_type": "code",
        "colab": {}
      },
      "source": [
        "EMBEDDING_DIM = 70\n",
        "w2v = Word2Vec(sentences=docs, size=EMBEDDING_DIM, window=5, sg=0, iter=35, min_count=1)"
      ],
      "execution_count": 0,
      "outputs": []
    },
    {
      "cell_type": "markdown",
      "metadata": {
        "id": "ZW4cRbhLvYXM",
        "colab_type": "text"
      },
      "source": [
        "Посмотрим, что может W2V"
      ]
    },
    {
      "cell_type": "markdown",
      "metadata": {
        "id": "NiEwAzqOvgsW",
        "colab_type": "text"
      },
      "source": [
        "Вывести лишнее слово:"
      ]
    },
    {
      "cell_type": "code",
      "metadata": {
        "id": "xIAtihuxpRZp",
        "colab_type": "code",
        "outputId": "c6f18c75-0472-496c-efed-19b929c4a139",
        "colab": {
          "base_uri": "https://localhost:8080/",
          "height": 154
        }
      },
      "source": [
        "w2v.doesnt_match(['ios', 'iphone', 'marvel'])"
      ],
      "execution_count": 0,
      "outputs": [
        {
          "output_type": "stream",
          "text": [
            "/usr/local/lib/python3.6/dist-packages/ipykernel_launcher.py:1: DeprecationWarning: Call to deprecated `doesnt_match` (Method will be removed in 4.0.0, use self.wv.doesnt_match() instead).\n",
            "  \"\"\"Entry point for launching an IPython kernel.\n",
            "/usr/local/lib/python3.6/dist-packages/gensim/models/keyedvectors.py:895: FutureWarning: arrays to stack must be passed as a \"sequence\" type such as list or tuple. Support for non-sequence iterables such as generators is deprecated as of NumPy 1.16 and will raise an error in the future.\n",
            "  vectors = vstack(self.word_vec(word, use_norm=True) for word in used_words).astype(REAL)\n",
            "/usr/local/lib/python3.6/dist-packages/gensim/matutils.py:737: FutureWarning: Conversion of the second argument of issubdtype from `int` to `np.signedinteger` is deprecated. In future, it will be treated as `np.int64 == np.dtype(int).type`.\n",
            "  if np.issubdtype(vec.dtype, np.int):\n"
          ],
          "name": "stderr"
        },
        {
          "output_type": "execute_result",
          "data": {
            "text/plain": [
              "'marvel'"
            ]
          },
          "metadata": {
            "tags": []
          },
          "execution_count": 36
        }
      ]
    },
    {
      "cell_type": "markdown",
      "metadata": {
        "id": "pEZxFMq8vrUF",
        "colab_type": "text"
      },
      "source": [
        "Посмотреть на сколько близко расположены слова:"
      ]
    },
    {
      "cell_type": "code",
      "metadata": {
        "id": "JlKY_AkQvjEJ",
        "colab_type": "code",
        "outputId": "ee6446fe-199b-4c98-c780-e55b7f5f1b33",
        "colab": {
          "base_uri": "https://localhost:8080/",
          "height": 121
        }
      },
      "source": [
        "w2v.similarity('ios', 'android')"
      ],
      "execution_count": 0,
      "outputs": [
        {
          "output_type": "stream",
          "text": [
            "/usr/local/lib/python3.6/dist-packages/ipykernel_launcher.py:1: DeprecationWarning: Call to deprecated `similarity` (Method will be removed in 4.0.0, use self.wv.similarity() instead).\n",
            "  \"\"\"Entry point for launching an IPython kernel.\n",
            "/usr/local/lib/python3.6/dist-packages/gensim/matutils.py:737: FutureWarning: Conversion of the second argument of issubdtype from `int` to `np.signedinteger` is deprecated. In future, it will be treated as `np.int64 == np.dtype(int).type`.\n",
            "  if np.issubdtype(vec.dtype, np.int):\n"
          ],
          "name": "stderr"
        },
        {
          "output_type": "execute_result",
          "data": {
            "text/plain": [
              "0.8068313"
            ]
          },
          "metadata": {
            "tags": []
          },
          "execution_count": 37
        }
      ]
    },
    {
      "cell_type": "markdown",
      "metadata": {
        "id": "qHvhFB7Nvw9R",
        "colab_type": "text"
      },
      "source": [
        "Вывести 5 похожих слов (которые употребляются в одном контексте)"
      ]
    },
    {
      "cell_type": "code",
      "metadata": {
        "id": "rv0XA7qsvums",
        "colab_type": "code",
        "outputId": "f49b1566-53fe-4047-ed87-4d4bf1c148b1",
        "colab": {
          "base_uri": "https://localhost:8080/",
          "height": 272
        }
      },
      "source": [
        "w2v.most_similar(positive=[\"ios\"])"
      ],
      "execution_count": 0,
      "outputs": [
        {
          "output_type": "stream",
          "text": [
            "/usr/local/lib/python3.6/dist-packages/ipykernel_launcher.py:1: DeprecationWarning: Call to deprecated `most_similar` (Method will be removed in 4.0.0, use self.wv.most_similar() instead).\n",
            "  \"\"\"Entry point for launching an IPython kernel.\n",
            "/usr/local/lib/python3.6/dist-packages/gensim/matutils.py:737: FutureWarning: Conversion of the second argument of issubdtype from `int` to `np.signedinteger` is deprecated. In future, it will be treated as `np.int64 == np.dtype(int).type`.\n",
            "  if np.issubdtype(vec.dtype, np.int):\n"
          ],
          "name": "stderr"
        },
        {
          "output_type": "execute_result",
          "data": {
            "text/plain": [
              "[('android', 0.8068312406539917),\n",
              " ('андроид', 0.7744116187095642),\n",
              " ('windows', 0.7231317162513733),\n",
              " ('os', 0.7139272689819336),\n",
              " ('miui', 0.7103722095489502),\n",
              " ('иос', 0.700728178024292),\n",
              " ('flyme', 0.689530074596405),\n",
              " ('новее', 0.6864635348320007),\n",
              " ('прошивки', 0.672870397567749),\n",
              " ('перестроится', 0.6661350131034851)]"
            ]
          },
          "metadata": {
            "tags": []
          },
          "execution_count": 38
        }
      ]
    },
    {
      "cell_type": "markdown",
      "metadata": {
        "id": "yWvhUQlTv4iB",
        "colab_type": "text"
      },
      "source": [
        "Вывести 5 наиболее не похожих слов:"
      ]
    },
    {
      "cell_type": "code",
      "metadata": {
        "id": "7QDyzU2rv1Eq",
        "colab_type": "code",
        "outputId": "2c9e7f5a-80c4-4856-b4c3-d4af5ad2c513",
        "colab": {
          "base_uri": "https://localhost:8080/",
          "height": 272
        }
      },
      "source": [
        "w2v.most_similar(negative=[\"ios\"])"
      ],
      "execution_count": 0,
      "outputs": [
        {
          "output_type": "stream",
          "text": [
            "/usr/local/lib/python3.6/dist-packages/ipykernel_launcher.py:1: DeprecationWarning: Call to deprecated `most_similar` (Method will be removed in 4.0.0, use self.wv.most_similar() instead).\n",
            "  \"\"\"Entry point for launching an IPython kernel.\n",
            "/usr/local/lib/python3.6/dist-packages/gensim/matutils.py:737: FutureWarning: Conversion of the second argument of issubdtype from `int` to `np.signedinteger` is deprecated. In future, it will be treated as `np.int64 == np.dtype(int).type`.\n",
            "  if np.issubdtype(vec.dtype, np.int):\n"
          ],
          "name": "stderr"
        },
        {
          "output_type": "execute_result",
          "data": {
            "text/plain": [
              "[('200x140', 0.5399351716041565),\n",
              " ('султан', 0.5359445810317993),\n",
              " ('антилоп', 0.528760552406311),\n",
              " ('астраханский', 0.5156436562538147),\n",
              " ('150х47', 0.5140420794487),\n",
              " ('римако', 0.512389063835144),\n",
              " ('300х250', 0.5117253065109253),\n",
              " ('40смx65см', 0.5088462233543396),\n",
              " ('90x200', 0.5061871409416199),\n",
              " ('110х90', 0.5017774701118469)]"
            ]
          },
          "metadata": {
            "tags": []
          },
          "execution_count": 39
        }
      ]
    },
    {
      "cell_type": "markdown",
      "metadata": {
        "id": "gM-omZQLwBkh",
        "colab_type": "text"
      },
      "source": [
        "Получит вектор:"
      ]
    },
    {
      "cell_type": "code",
      "metadata": {
        "id": "1AVmZKdmv9p5",
        "colab_type": "code",
        "outputId": "6c7e8bfe-a2a2-4cf4-9900-8c799563e648",
        "colab": {
          "base_uri": "https://localhost:8080/",
          "height": 373
        }
      },
      "source": [
        "w2v['ios']"
      ],
      "execution_count": 0,
      "outputs": [
        {
          "output_type": "stream",
          "text": [
            "/usr/local/lib/python3.6/dist-packages/ipykernel_launcher.py:1: DeprecationWarning: Call to deprecated `__getitem__` (Method will be removed in 4.0.0, use self.wv.__getitem__() instead).\n",
            "  \"\"\"Entry point for launching an IPython kernel.\n"
          ],
          "name": "stderr"
        },
        {
          "output_type": "execute_result",
          "data": {
            "text/plain": [
              "array([-1.9834080e+00,  3.0129166e+00, -1.9111475e+00,  3.6405709e+00,\n",
              "       -2.5092299e+00,  2.0648198e+00,  1.2756878e+00,  5.0522842e+00,\n",
              "        1.7135998e+00,  5.5386310e+00, -9.6985906e-01,  2.9413804e-01,\n",
              "        2.2261026e+00, -4.9153380e+00, -1.0661440e+00,  4.5677061e+00,\n",
              "       -1.1648831e+00,  9.7966248e-01,  1.4611794e+00, -4.8260455e+00,\n",
              "        1.2970511e+00,  6.8025988e-01,  7.7177949e+00,  1.0120106e+00,\n",
              "        5.3005856e-02, -3.9210315e+00,  8.6374968e-02,  3.3790287e-01,\n",
              "        2.7651110e-01,  3.2145083e+00, -4.5184004e-03,  3.4641225e+00,\n",
              "        1.3048451e+00, -1.8690970e+00, -3.1911230e+00,  7.4548483e-01,\n",
              "        3.5807984e+00,  6.8594873e-01,  3.1239171e+00,  1.3885922e+00,\n",
              "        1.9921688e+00, -1.8646096e+00,  3.0613106e-01,  8.9284945e-01,\n",
              "       -3.9750862e+00, -3.8593654e-02,  3.6929348e+00,  5.7284135e-02,\n",
              "        3.9934301e+00,  1.3210754e+00,  1.3523301e+00, -1.7937745e+00,\n",
              "        5.8702798e+00,  1.7923430e+00, -1.4721283e-01, -1.7900635e+00,\n",
              "        2.0657251e+00, -4.8178244e-02, -1.2108543e+00, -1.2290947e+00,\n",
              "       -2.8819327e+00, -1.5058553e+00,  3.8589923e+00,  2.9280074e+00,\n",
              "       -1.6409162e+00, -2.9484820e+00,  7.3047924e+00, -4.1368976e+00,\n",
              "       -2.9670516e-01,  8.1076711e-02], dtype=float32)"
            ]
          },
          "metadata": {
            "tags": []
          },
          "execution_count": 40
        }
      ]
    },
    {
      "cell_type": "markdown",
      "metadata": {
        "id": "Vv2ZRNsEwFfM",
        "colab_type": "text"
      },
      "source": [
        "## Визуализация W2V"
      ]
    },
    {
      "cell_type": "code",
      "metadata": {
        "id": "7xiNByk7wDQb",
        "colab_type": "code",
        "colab": {}
      },
      "source": [
        "from sklearn.decomposition import PCA\n",
        "from sklearn.manifold import TSNE"
      ],
      "execution_count": 0,
      "outputs": []
    },
    {
      "cell_type": "code",
      "metadata": {
        "id": "zZAj8qbtwKlq",
        "colab_type": "code",
        "colab": {}
      },
      "source": [
        "def tsnescatterplot(model, word, list_names):\n",
        "    arrays = np.empty((0, 70), dtype='f')\n",
        "    word_labels = [word]\n",
        "    color_list  = ['red']\n",
        "\n",
        "    # добaвляет вектор запроса\n",
        "    arrays = np.append(arrays, model.wv.__getitem__([word]), axis=0)\n",
        "    \n",
        "    # получаем список наиболее похожих слов\n",
        "    close_words = model.wv.most_similar([word])\n",
        "    \n",
        "    # добавляет вектор для каждого из ближайших слов к массиву\n",
        "    for wrd_score in close_words:\n",
        "        wrd_vector = model.wv.__getitem__([wrd_score[0]])\n",
        "        word_labels.append(wrd_score[0])\n",
        "        color_list.append('blue')\n",
        "        arrays = np.append(arrays, wrd_vector, axis=0)\n",
        "    \n",
        "    # добавляет вектор для каждого слова из list_names в массив\n",
        "    for wrd in list_names:\n",
        "        wrd_vector = model.wv.__getitem__([wrd])\n",
        "        word_labels.append(wrd)\n",
        "        color_list.append('green')\n",
        "        arrays = np.append(arrays, wrd_vector, axis=0)\n",
        "        \n",
        "    # Уменьшает размерность от 100 до 19 размеров с PCA\n",
        "    reduc = PCA(n_components=19).fit_transform(arrays)\n",
        "    \n",
        "    # Находит координаты t-SNE для 2 измерений\n",
        "    np.set_printoptions(suppress=True)\n",
        "    \n",
        "    Y = TSNE(n_components=2, random_state=0, perplexity=15).fit_transform(reduc)\n",
        "    \n",
        "    df = pd.DataFrame({'x': [x for x in Y[:, 0]],\n",
        "                       'y': [y for y in Y[:, 1]],\n",
        "                       'words': word_labels,\n",
        "                       'color': color_list})\n",
        "    \n",
        "    fig, _ = plt.subplots()\n",
        "    fig.set_size_inches(9, 9)\n",
        "    \n",
        "    # Основной плот\n",
        "    p1 = sns.regplot(data=df,\n",
        "                     x=\"x\",\n",
        "                     y=\"y\",\n",
        "                     fit_reg=False,\n",
        "                     marker=\"o\",\n",
        "                     scatter_kws={'s': 40,\n",
        "                                  'facecolors': df['color']\n",
        "                                 }\n",
        "                    )\n",
        "    \n",
        "    for line in range(0, df.shape[0]):\n",
        "         p1.text(df[\"x\"][line],\n",
        "                 df['y'][line],\n",
        "                 '  ' + df[\"words\"][line].title(),\n",
        "                 horizontalalignment='left',\n",
        "                 verticalalignment='bottom', size='medium',\n",
        "                 color=df['color'][line],\n",
        "                 weight='normal'\n",
        "                ).set_size(15)\n",
        "\n",
        "    \n",
        "    plt.xlim(Y[:, 0].min()-50, Y[:, 0].max()+50)\n",
        "    plt.ylim(Y[:, 1].min()-50, Y[:, 1].max()+50)\n",
        "            \n",
        "    plt.title('t-SNE визуализация {}'.format(word.title()))\n",
        "    \n"
      ],
      "execution_count": 0,
      "outputs": []
    },
    {
      "cell_type": "code",
      "metadata": {
        "id": "ab6Ab6zjwO-q",
        "colab_type": "code",
        "outputId": "106f6ee7-8a5d-4f74-c348-6eb02a5eb335",
        "colab": {
          "base_uri": "https://localhost:8080/",
          "height": 621
        }
      },
      "source": [
        "tsnescatterplot(w2v, 'ios', ['dog', 'игрушка', 'холодильник', 'телевизор', 'телефон', 'ковер', 'картина', 'lg'])"
      ],
      "execution_count": 0,
      "outputs": [
        {
          "output_type": "stream",
          "text": [
            "/usr/local/lib/python3.6/dist-packages/gensim/matutils.py:737: FutureWarning: Conversion of the second argument of issubdtype from `int` to `np.signedinteger` is deprecated. In future, it will be treated as `np.int64 == np.dtype(int).type`.\n",
            "  if np.issubdtype(vec.dtype, np.int):\n"
          ],
          "name": "stderr"
        },
        {
          "output_type": "display_data",
          "data": {
            "image/png": "[encoded data removed]",
            "text/plain": [
              "<Figure size 648x648 with 1 Axes>"
            ]
          },
          "metadata": {
            "tags": []
          }
        }
      ]
    },
    {
      "cell_type": "markdown",
      "metadata": {
        "id": "VD8d_O0uwbaD",
        "colab_type": "text"
      },
      "source": [
        "На данном графике я вывел 5 наиболее похожих слов и 5 случайных (на мой выбор) слов"
      ]
    },
    {
      "cell_type": "code",
      "metadata": {
        "id": "TDNLhSYuheQF",
        "colab_type": "code",
        "colab": {}
      },
      "source": [
        ""
      ],
      "execution_count": 0,
      "outputs": []
    },
    {
      "cell_type": "markdown",
      "metadata": {
        "id": "S9Aak75Nwoj4",
        "colab_type": "text"
      },
      "source": [
        "## Логистическая регрессия"
      ]
    },
    {
      "cell_type": "code",
      "metadata": {
        "id": "CLLAFVHIwUYm",
        "colab_type": "code",
        "outputId": "40fddd3e-abb0-4324-999c-8d3847127dd9",
        "colab": {
          "base_uri": "https://localhost:8080/",
          "height": 70
        }
      },
      "source": [
        "w2v_2 = dict(zip(w2v.wv.index2word, w2v.wv.syn0))"
      ],
      "execution_count": 0,
      "outputs": [
        {
          "output_type": "stream",
          "text": [
            "/usr/local/lib/python3.6/dist-packages/ipykernel_launcher.py:1: DeprecationWarning: Call to deprecated `syn0` (Attribute will be removed in 4.0.0, use self.wv.vectors instead).\n",
            "  \"\"\"Entry point for launching an IPython kernel.\n"
          ],
          "name": "stderr"
        }
      ]
    },
    {
      "cell_type": "markdown",
      "metadata": {
        "id": "PKfzFIHmdd9l",
        "colab_type": "text"
      },
      "source": [
        "Я каждому слову сопоставил вектор, но нужно решить, что сопоставить целому предложению из слов.\n",
        "Один из возможных вариантов это просто усреднить все слова в предложении и получить некоторый смысл всего предложения (если слова нет в тексте, то берем нулевой вектор), данный класс решит эту задачу.\n",
        "\n"
      ]
    },
    {
      "cell_type": "code",
      "metadata": {
        "id": "CtIyUkkvwsIr",
        "colab_type": "code",
        "colab": {}
      },
      "source": [
        "class mean_vectorizer(object):\n",
        "    def __init__(self, word2vec):\n",
        "        self.word2vec = word2vec\n",
        "        self.dim = len(next(iter(w2v_2.values())))\n",
        "\n",
        "    def fit(self, X):\n",
        "        return self \n",
        "\n",
        "    def transform(self, X):\n",
        "        return np.array([\n",
        "            np.mean([self.word2vec[w] for w in words if w in self.word2vec] \n",
        "                    or [np.zeros(self.dim)], axis=0)\n",
        "            for words in X\n",
        "        ])"
      ],
      "execution_count": 0,
      "outputs": []
    },
    {
      "cell_type": "code",
      "metadata": {
        "id": "3Z0B005XwxF7",
        "colab_type": "code",
        "outputId": "7bca72ef-76e8-4f2a-90a7-92ca1ed89adb",
        "colab": {
          "base_uri": "https://localhost:8080/",
          "height": 34
        }
      },
      "source": [
        "data_mean=mean_vectorizer(w2v_2).fit(docs).transform(docs)\n",
        "data_mean.shape"
      ],
      "execution_count": 0,
      "outputs": [
        {
          "output_type": "execute_result",
          "data": {
            "text/plain": [
              "(489517, 70)"
            ]
          },
          "metadata": {
            "tags": []
          },
          "execution_count": 51
        }
      ]
    },
    {
      "cell_type": "code",
      "metadata": {
        "id": "FY1LPMtVwz6I",
        "colab_type": "code",
        "outputId": "ff25d70d-a871-4578-d98e-24902ef0904e",
        "colab": {
          "base_uri": "https://localhost:8080/",
          "height": 34
        }
      },
      "source": [
        "def split(train,y,ratio):\n",
        "    idx = round(train.shape[0] * ratio)\n",
        "    return train[:idx, :], train[idx:, :], y[:idx], y[idx:]\n",
        "\n",
        "Xtr, Xval, ytr, yval = split(data_mean, dtrain[\"category_id\"], 0.8)\n",
        "Xtr.shape,Xval.shape,ytr.mean(),yval.mean()"
      ],
      "execution_count": 0,
      "outputs": [
        {
          "output_type": "execute_result",
          "data": {
            "text/plain": [
              "((391614, 70), (97903, 70), 26.78016363051372, 26.70614792192272)"
            ]
          },
          "metadata": {
            "tags": []
          },
          "execution_count": 53
        }
      ]
    },
    {
      "cell_type": "code",
      "metadata": {
        "id": "OyuYEj4Aw2AG",
        "colab_type": "code",
        "colab": {}
      },
      "source": [
        "ytr = ytr.values\n",
        "yval = yval.values"
      ],
      "execution_count": 0,
      "outputs": []
    },
    {
      "cell_type": "code",
      "metadata": {
        "id": "Om_XThL-w6Nv",
        "colab_type": "code",
        "outputId": "bab6fda1-e47e-49e8-e3ba-730d21c32188",
        "colab": {
          "base_uri": "https://localhost:8080/",
          "height": 34
        }
      },
      "source": [
        "Xtr.shape, Xval.shape, ytr.shape, yval.shape"
      ],
      "execution_count": 0,
      "outputs": [
        {
          "output_type": "execute_result",
          "data": {
            "text/plain": [
              "((391614, 70), (97903, 70), (391614,), (97903,))"
            ]
          },
          "metadata": {
            "tags": []
          },
          "execution_count": 55
        }
      ]
    },
    {
      "cell_type": "markdown",
      "metadata": {
        "id": "zhw-D7bBdpu4",
        "colab_type": "text"
      },
      "source": [
        "Реализуем логистическую регрессию:"
      ]
    },
    {
      "cell_type": "code",
      "metadata": {
        "id": "KmMKxOPbw_kA",
        "colab_type": "code",
        "outputId": "f4f9f51d-c35b-451d-a7a8-aae7af1edb9b",
        "colab": {
          "base_uri": "https://localhost:8080/",
          "height": 70
        }
      },
      "source": [
        "lr_w2v = LogisticRegression(C=5, random_state=0, solver='saga',\n",
        "                         multi_class='multinomial', n_jobs=-1)\n",
        "lr_w2v.fit(Xtr, ytr)\n",
        "    # прогноз для валидационной выборки\n",
        "y_pred_w2v = lr_w2v.predict(Xval)\n",
        "    # считаем качество\n",
        "score = accuracy_score(yval, y_pred_w2v)"
      ],
      "execution_count": 0,
      "outputs": [
        {
          "output_type": "stream",
          "text": [
            "/usr/local/lib/python3.6/dist-packages/sklearn/linear_model/sag.py:334: ConvergenceWarning: The max_iter was reached which means the coef_ did not converge\n",
            "  \"the coef_ did not converge\", ConvergenceWarning)\n"
          ],
          "name": "stderr"
        }
      ]
    },
    {
      "cell_type": "code",
      "metadata": {
        "id": "uAJbiXgMxCHZ",
        "colab_type": "code",
        "outputId": "964dad58-89a5-412e-9d3f-9fa04877591f",
        "colab": {
          "base_uri": "https://localhost:8080/",
          "height": 34
        }
      },
      "source": [
        "print(score)"
      ],
      "execution_count": 0,
      "outputs": [
        {
          "output_type": "stream",
          "text": [
            "0.8089435461630389\n"
          ],
          "name": "stdout"
        }
      ]
    },
    {
      "cell_type": "markdown",
      "metadata": {
        "id": "Rtov2glLMAan",
        "colab_type": "text"
      },
      "source": [
        "Модель с TF-IDF представлением слов оказалась лучше, так что будем использовать ее в предсказание категории. "
      ]
    },
    {
      "cell_type": "markdown",
      "metadata": {
        "id": "STiek3HEwzwK",
        "colab_type": "text"
      },
      "source": [
        "# Дип Лёрнинг?"
      ]
    },
    {
      "cell_type": "markdown",
      "metadata": {
        "id": "51bCdTYOLcSS",
        "colab_type": "text"
      },
      "source": [
        "![image.png](data:image/png;base64,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)"
      ]
    },
    {
      "cell_type": "code",
      "metadata": {
        "id": "LTqGkWd1_zKk",
        "colab_type": "code",
        "colab": {}
      },
      "source": [
        ""
      ],
      "execution_count": 0,
      "outputs": []
    },
    {
      "cell_type": "code",
      "metadata": {
        "id": "wtyDfGPT_Xip",
        "colab_type": "code",
        "colab": {}
      },
      "source": [
        ""
      ],
      "execution_count": 0,
      "outputs": []
    },
    {
      "cell_type": "markdown",
      "metadata": {
        "id": "grOQ5Vv0MK5d",
        "colab_type": "text"
      },
      "source": [
        "# Предсказания "
      ]
    },
    {
      "cell_type": "markdown",
      "metadata": {
        "id": "LZwH840hVNb3",
        "colab_type": "text"
      },
      "source": [
        "Взглянем на **dtest**"
      ]
    },
    {
      "cell_type": "code",
      "metadata": {
        "id": "UIADd1wpVCZi",
        "colab_type": "code",
        "outputId": "717ba7f9-e5b3-4ca1-b1f1-1b781d1ad19b",
        "colab": {
          "base_uri": "https://localhost:8080/",
          "height": 225
        }
      },
      "source": [
        "dtest.head()"
      ],
      "execution_count": 0,
      "outputs": [
        {
          "output_type": "execute_result",
          "data": {
            "text/html": [
              "<div>\n",
              "<style scoped>\n",
              "    .dataframe tbody tr th:only-of-type {\n",
              "        vertical-align: middle;\n",
              "    }\n",
              "\n",
              "    .dataframe tbody tr th {\n",
              "        vertical-align: top;\n",
              "    }\n",
              "\n",
              "    .dataframe thead th {\n",
              "        text-align: right;\n",
              "    }\n",
              "</style>\n",
              "<table border=\"1\" class=\"dataframe\">\n",
              "  <thead>\n",
              "    <tr style=\"text-align: right;\">\n",
              "      <th></th>\n",
              "      <th>title</th>\n",
              "      <th>description</th>\n",
              "      <th>price</th>\n",
              "    </tr>\n",
              "    <tr>\n",
              "      <th>item_id</th>\n",
              "      <th></th>\n",
              "      <th></th>\n",
              "      <th></th>\n",
              "    </tr>\n",
              "  </thead>\n",
              "  <tbody>\n",
              "    <tr>\n",
              "      <th>489517</th>\n",
              "      <td>Стоик журнальный сталь</td>\n",
              "      <td>продам журнальный столик изготавливаю столы из...</td>\n",
              "      <td>10000.0</td>\n",
              "    </tr>\n",
              "    <tr>\n",
              "      <th>489518</th>\n",
              "      <td>iPhone 5 64Gb</td>\n",
              "      <td>Телефон в хорошем состоянии. Комплект, гаранти...</td>\n",
              "      <td>12500.0</td>\n",
              "    </tr>\n",
              "    <tr>\n",
              "      <th>489519</th>\n",
              "      <td>Утеплитель</td>\n",
              "      <td>ТЕПЛОПЕЛЕН-ЛИДЕР ТЕПЛА!!! Толщина утеплителя :...</td>\n",
              "      <td>250.0</td>\n",
              "    </tr>\n",
              "    <tr>\n",
              "      <th>489520</th>\n",
              "      <td>Пальто демисезонное</td>\n",
              "      <td>Продам пальто женское (букле) в отличном состо...</td>\n",
              "      <td>1700.0</td>\n",
              "    </tr>\n",
              "    <tr>\n",
              "      <th>489521</th>\n",
              "      <td>Samsung syncmaster T200N</td>\n",
              "      <td>Условно рабочий, проблема в панели настройки м...</td>\n",
              "      <td>1000.0</td>\n",
              "    </tr>\n",
              "  </tbody>\n",
              "</table>\n",
              "</div>"
            ],
            "text/plain": [
              "                            title  \\\n",
              "item_id                             \n",
              "489517     Стоик журнальный сталь   \n",
              "489518              iPhone 5 64Gb   \n",
              "489519                 Утеплитель   \n",
              "489520        Пальто демисезонное   \n",
              "489521   Samsung syncmaster T200N   \n",
              "\n",
              "                                               description    price  \n",
              "item_id                                                              \n",
              "489517   продам журнальный столик изготавливаю столы из...  10000.0  \n",
              "489518   Телефон в хорошем состоянии. Комплект, гаранти...  12500.0  \n",
              "489519   ТЕПЛОПЕЛЕН-ЛИДЕР ТЕПЛА!!! Толщина утеплителя :...    250.0  \n",
              "489520   Продам пальто женское (букле) в отличном состо...   1700.0  \n",
              "489521   Условно рабочий, проблема в панели настройки м...   1000.0  "
            ]
          },
          "metadata": {
            "tags": []
          },
          "execution_count": 12
        }
      ]
    },
    {
      "cell_type": "markdown",
      "metadata": {
        "id": "qqKdcQFNVVLZ",
        "colab_type": "text"
      },
      "source": [
        "Преобразуем данные"
      ]
    },
    {
      "cell_type": "code",
      "metadata": {
        "id": "CFAq3zusxD-F",
        "colab_type": "code",
        "colab": {}
      },
      "source": [
        "dtest['title'] = dtest.apply(lambda r: preprocess_text(r['title']), axis=1)\n",
        "dtest['description'] = dtest.apply(lambda r: preprocess_text(r['description']), axis=1)\n",
        "\n",
        "dtest['text'] = dtest.apply(lambda row: make_text(row['title'], row['description'],\n",
        "                                              row['price']), axis=1)"
      ],
      "execution_count": 0,
      "outputs": []
    },
    {
      "cell_type": "code",
      "metadata": {
        "id": "yuTGEeXdVwlk",
        "colab_type": "code",
        "colab": {}
      },
      "source": [
        "Xtest=dtest['text'].values"
      ],
      "execution_count": 0,
      "outputs": []
    },
    {
      "cell_type": "code",
      "metadata": {
        "id": "VGiPrRFPU1o4",
        "colab_type": "code",
        "colab": {}
      },
      "source": [
        "X_tfidf = tfidf_vectorizer.transform(Xtest)"
      ],
      "execution_count": 0,
      "outputs": []
    },
    {
      "cell_type": "code",
      "metadata": {
        "id": "iyKyYeY5V8Jp",
        "colab_type": "code",
        "colab": {}
      },
      "source": [
        "pred = lr.predict(X_tfidf)"
      ],
      "execution_count": 0,
      "outputs": []
    },
    {
      "cell_type": "code",
      "metadata": {
        "id": "1zGb6AKzWQju",
        "colab_type": "code",
        "outputId": "d575933b-7dd6-45b2-95c8-ef5513bf0905",
        "colab": {
          "base_uri": "https://localhost:8080/",
          "height": 34
        }
      },
      "source": [
        "pred.shape, dtest.shape"
      ],
      "execution_count": 0,
      "outputs": [
        {
          "output_type": "execute_result",
          "data": {
            "text/plain": [
              "((243166,), (243166, 4))"
            ]
          },
          "metadata": {
            "tags": []
          },
          "execution_count": 17
        }
      ]
    },
    {
      "cell_type": "code",
      "metadata": {
        "id": "Fe_sjajvWG3U",
        "colab_type": "code",
        "colab": {}
      },
      "source": [
        "dtest['category_id'] = pred"
      ],
      "execution_count": 0,
      "outputs": []
    },
    {
      "cell_type": "code",
      "metadata": {
        "id": "THAflhWFWU0N",
        "colab_type": "code",
        "outputId": "178f6759-c71d-473d-a501-88ce927ce7a0",
        "colab": {
          "base_uri": "https://localhost:8080/",
          "height": 309
        }
      },
      "source": [
        "dtest.head()"
      ],
      "execution_count": 0,
      "outputs": [
        {
          "output_type": "execute_result",
          "data": {
            "text/html": [
              "<div>\n",
              "<style scoped>\n",
              "    .dataframe tbody tr th:only-of-type {\n",
              "        vertical-align: middle;\n",
              "    }\n",
              "\n",
              "    .dataframe tbody tr th {\n",
              "        vertical-align: top;\n",
              "    }\n",
              "\n",
              "    .dataframe thead th {\n",
              "        text-align: right;\n",
              "    }\n",
              "</style>\n",
              "<table border=\"1\" class=\"dataframe\">\n",
              "  <thead>\n",
              "    <tr style=\"text-align: right;\">\n",
              "      <th></th>\n",
              "      <th>title</th>\n",
              "      <th>description</th>\n",
              "      <th>price</th>\n",
              "      <th>text</th>\n",
              "      <th>category_id</th>\n",
              "    </tr>\n",
              "    <tr>\n",
              "      <th>item_id</th>\n",
              "      <th></th>\n",
              "      <th></th>\n",
              "      <th></th>\n",
              "      <th></th>\n",
              "      <th></th>\n",
              "    </tr>\n",
              "  </thead>\n",
              "  <tbody>\n",
              "    <tr>\n",
              "      <th>489517</th>\n",
              "      <td>стоик журнальный сталь</td>\n",
              "      <td>продам журнальный столик изготавливаю столы из...</td>\n",
              "      <td>10000.0</td>\n",
              "      <td>стоик журнальный сталь продам журнальный столи...</td>\n",
              "      <td>22</td>\n",
              "    </tr>\n",
              "    <tr>\n",
              "      <th>489518</th>\n",
              "      <td>iphone 5 64gb</td>\n",
              "      <td>телефон в хорошем состоянии комплект гарантия ...</td>\n",
              "      <td>12500.0</td>\n",
              "      <td>iphone 5 64gb телефон в хорошем состоянии комп...</td>\n",
              "      <td>0</td>\n",
              "    </tr>\n",
              "    <tr>\n",
              "      <th>489519</th>\n",
              "      <td>утеплитель</td>\n",
              "      <td>теплопелен лидер тепла толщина утеплителя 20 м...</td>\n",
              "      <td>250.0</td>\n",
              "      <td>утеплитель теплопелен лидер тепла толщина утеп...</td>\n",
              "      <td>15</td>\n",
              "    </tr>\n",
              "    <tr>\n",
              "      <th>489520</th>\n",
              "      <td>пальто демисезонное</td>\n",
              "      <td>продам пальто женское букле в отличном состоян...</td>\n",
              "      <td>1700.0</td>\n",
              "      <td>пальто демисезонный продам пальто женское букл...</td>\n",
              "      <td>33</td>\n",
              "    </tr>\n",
              "    <tr>\n",
              "      <th>489521</th>\n",
              "      <td>samsung syncmaster t200n</td>\n",
              "      <td>условно рабочий проблема в панели настройки мо...</td>\n",
              "      <td>1000.0</td>\n",
              "      <td>samsung syncmaster t200n условно рабочий пробл...</td>\n",
              "      <td>13</td>\n",
              "    </tr>\n",
              "  </tbody>\n",
              "</table>\n",
              "</div>"
            ],
            "text/plain": [
              "                            title  \\\n",
              "item_id                             \n",
              "489517     стоик журнальный сталь   \n",
              "489518              iphone 5 64gb   \n",
              "489519                 утеплитель   \n",
              "489520        пальто демисезонное   \n",
              "489521   samsung syncmaster t200n   \n",
              "\n",
              "                                               description    price  \\\n",
              "item_id                                                               \n",
              "489517   продам журнальный столик изготавливаю столы из...  10000.0   \n",
              "489518   телефон в хорошем состоянии комплект гарантия ...  12500.0   \n",
              "489519   теплопелен лидер тепла толщина утеплителя 20 м...    250.0   \n",
              "489520   продам пальто женское букле в отличном состоян...   1700.0   \n",
              "489521   условно рабочий проблема в панели настройки мо...   1000.0   \n",
              "\n",
              "                                                      text  category_id  \n",
              "item_id                                                                  \n",
              "489517   стоик журнальный сталь продам журнальный столи...           22  \n",
              "489518   iphone 5 64gb телефон в хорошем состоянии комп...            0  \n",
              "489519   утеплитель теплопелен лидер тепла толщина утеп...           15  \n",
              "489520   пальто демисезонный продам пальто женское букл...           33  \n",
              "489521   samsung syncmaster t200n условно рабочий пробл...           13  "
            ]
          },
          "metadata": {
            "tags": []
          },
          "execution_count": 19
        }
      ]
    },
    {
      "cell_type": "markdown",
      "metadata": {
        "id": "Y6VsauXWcTXu",
        "colab_type": "text"
      },
      "source": [
        "Выглядит все хорошо. Теперь скачаем файл и работа готова. "
      ]
    },
    {
      "cell_type": "code",
      "metadata": {
        "id": "P-pitoJ-WWOc",
        "colab_type": "code",
        "outputId": "b0053dde-d5ae-481f-c914-4f90b8df7b7a",
        "colab": {
          "base_uri": "https://localhost:8080/",
          "height": 437
        }
      },
      "source": [
        "from google.colab import files\n",
        "\n",
        "dtest.to_csv('baseline.csv', index=False)\n",
        "files.download('baseline.csv')"
      ],
      "execution_count": 0,
      "outputs": [
        {
          "output_type": "stream",
          "text": [
            "----------------------------------------\n",
            "Exception happened during processing of request from ('::ffff:127.0.0.1', 36806, 0, 0)\n",
            "Traceback (most recent call last):\n",
            "  File \"/usr/lib/python3.6/socketserver.py\", line 317, in _handle_request_noblock\n",
            "    self.process_request(request, client_address)\n",
            "  File \"/usr/lib/python3.6/socketserver.py\", line 348, in process_request\n",
            "    self.finish_request(request, client_address)\n",
            "  File \"/usr/lib/python3.6/socketserver.py\", line 361, in finish_request\n",
            "    self.RequestHandlerClass(request, client_address, self)\n",
            "  File \"/usr/lib/python3.6/socketserver.py\", line 721, in __init__\n",
            "    self.handle()\n",
            "  File \"/usr/lib/python3.6/http/server.py\", line 418, in handle\n",
            "    self.handle_one_request()\n",
            "  File \"/usr/lib/python3.6/http/server.py\", line 406, in handle_one_request\n",
            "    method()\n",
            "  File \"/usr/lib/python3.6/http/server.py\", line 639, in do_GET\n",
            "    self.copyfile(f, self.wfile)\n",
            "  File \"/usr/lib/python3.6/http/server.py\", line 800, in copyfile\n",
            "    shutil.copyfileobj(source, outputfile)\n",
            "  File \"/usr/lib/python3.6/shutil.py\", line 82, in copyfileobj\n",
            "    fdst.write(buf)\n",
            "  File \"/usr/lib/python3.6/socketserver.py\", line 800, in write\n",
            "    self._sock.sendall(b)\n",
            "ConnectionResetError: [Errno 104] Connection reset by peer\n",
            "----------------------------------------\n"
          ],
          "name": "stderr"
        }
      ]
    },
    {
      "cell_type": "code",
      "metadata": {
        "id": "7_xr0FkmWtCb",
        "colab_type": "code",
        "colab": {}
      },
      "source": [
        ""
      ],
      "execution_count": 0,
      "outputs": []
    }
  ]
}